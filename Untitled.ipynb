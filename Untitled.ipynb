{
 "cells": [
  {
   "cell_type": "markdown",
   "metadata": {},
   "source": [
    "# http://janroman.dhis.org/stud/"
   ]
  },
  {
   "cell_type": "code",
   "execution_count": null,
   "metadata": {
    "collapsed": true
   },
   "outputs": [],
   "source": []
  },
  {
   "cell_type": "code",
   "execution_count": null,
   "metadata": {
    "collapsed": true
   },
   "outputs": [],
   "source": [
    "# -*- coding: utf-8 -*-\n",
    "\"\"\"\n",
    "Created on Wed Dec 10 23:45:06 2014\n",
    "Python Program for NSS modeling of bootstrapped Swedish Bond information\n",
    "@author: mylurian\n",
    "\"\"\""
   ]
  },
  {
   "cell_type": "code",
   "execution_count": 1,
   "metadata": {},
   "outputs": [],
   "source": [
    "import matplotlib.pyplot as plt\n",
    "import math as ma\n",
    "import operator as op"
   ]
  },
  {
   "cell_type": "code",
   "execution_count": 2,
   "metadata": {},
   "outputs": [
    {
     "name": "stdout",
     "output_type": "stream",
     "text": [
      "The sum of the residuals is:\n",
      "1.16073830319\n"
     ]
    }
   ],
   "source": [
    "X = (0.027777778,0.122222222,0.197222222,0.263888889,0.280555556,0.355555556,0.452777778,0.527777778,0.597222222,0.605555556,0.680555556,0.994444444,1.263888889,1.597222222,1.680555556,1.994444444,2.263888889,2.680555556,2.983333333,2.994444444,3.263888889,3.983333333,3.994444444,4.263888889,4.983333333,4.994444444,5.983333333,5.994444444,6.994444444,7.994444444,8.933333333)\n",
    "Y = (0.01,0.01,0.02,0.01,0.01,0.01,0.02,0.02,0.03,0.03,0.05,0.02,0.02,0.00,-0.08,-0.28,-0.01,0.04,0.14,0.23,0.23,0.23,0.23,0.23,0.23,0.57,0.57,1.25,1.58,0.77,0.96)\n",
    "G = (002.6047819,-002.4907108,-002.1105677,-001.8523512,2.048884864,2.049372158)\n",
    "h = len(X)\n",
    "R = []\n",
    "count = 0\n",
    "for _ in range(h):\n",
    "    x = X[count]\n",
    "    def f(x):\n",
    "        return G[0]+G[1]*((1-ma.e**(-x/G[4]))/(x/G[4]))+G[2]*(((1-ma.e**(-x/G[4]))/(x/G[4]))-ma.e**(-x/G[4]))+G[3]*(((1-ma.e**(-x/G[5]))/(x/G[5]))-ma.e**(-x/G[5]))\n",
    "    s = f(x)\n",
    "    R.append(s)\n",
    "    count = count + 1\n",
    "plt.plot(X,Y, 'ro')\n",
    "plt.axis([0, 9, -.1, 2])\n",
    "plt.plot(X,R)\n",
    "C = map(op.sub, Y, R)\n",
    "D = map(op.mul, C, C)\n",
    "print 'The sum of the residuals is:'\n",
    "print sum(D)\n",
    "plt.show()"
   ]
  },
  {
   "cell_type": "code",
   "execution_count": 3,
   "metadata": {
    "collapsed": true
   },
   "outputs": [],
   "source": [
    "# -*- coding: utf-8 -*-\n",
    "\"\"\"\n",
    "Created on Thu Dec 11 03:25:17 2014\n",
    "http://docs.scipy.org/doc/scipy-0.14.0/reference/generated/scipy.optimize.curve_fit.html\n",
    "@author: mylurian\n",
    "\"\"\"\n",
    "import numpy as np\n",
    "import matplotlib.pyplot as plt\n",
    "from scipy.optimize import curve_fit\n",
    "import math as ma\n",
    "import operator as op"
   ]
  },
  {
   "cell_type": "code",
   "execution_count": null,
   "metadata": {
    "collapsed": true
   },
   "outputs": [],
   "source": [
    "x = np.array([0.027777778,0.122222222,0.197222222,0.263888889,0.280555556,0.355555556,0.452777778,0.527777778,0.597222222,0.605555556,0.680555556,0.994444444,1.263888889,1.597222222,1.680555556,1.994444444,2.263888889,2.680555556,2.983333333,2.994444444,3.263888889,3.983333333,3.994444444,4.263888889,4.983333333,4.994444444,5.983333333,5.994444444,6.994444444,7.994444444,8.933333333])\n",
    "y = np.array([0.01,0.01,0.02,0.01,0.01,0.01,0.02,0.02,0.03,0.03,0.05,0.02,0.02,0.00,-0.08,-0.28,-0.01,0.04,0.14,0.23,0.23,0.23,0.23,0.23,0.23,0.57,0.57,1.25,1.58,0.77,0.96])"
   ]
  },
  {
   "cell_type": "code",
   "execution_count": 9,
   "metadata": {},
   "outputs": [],
   "source": [
    "plt.plot(x, y)\n",
    "plt.show()"
   ]
  },
  {
   "cell_type": "code",
   "execution_count": 4,
   "metadata": {},
   "outputs": [
    {
     "name": "stdout",
     "output_type": "stream",
     "text": [
      "The sum of the residuals is:\n",
      "1.07051898005\n",
      "(2.1413467134987383, -2.0950995222675868, -1.567720683192694, -6.3293066152193695, 0.17945587736126123, 1.2687495095352908)\n"
     ]
    }
   ],
   "source": [
    "def fit_func(x, a, b, c, d, g, f):\n",
    "    return a+b*((1-ma.e**(-x/g))/(x/g))+c*(((1-ma.e**(-x/g))/(x/g))-ma.e**(-x/g))+d*(((1-ma.e**(-x/f))/(x/f))-ma.e**(-x/f))\n",
    "\n",
    "params = curve_fit(fit_func, x, y)\n",
    "\n",
    "[a, b, c, d, g, f] = params[0]\n",
    "\n",
    "plt.plot(x,y,'ro')\n",
    "A=a/100\n",
    "B=b/100\n",
    "C=c/100\n",
    "D=d/100\n",
    "I = (a,b,c,d,g,f)\n",
    "J = (A,B,C,D,g,f)\n",
    "h = len(x)\n",
    "R = []\n",
    "count = 0\n",
    "for _ in range(h):\n",
    "    z = x[count]\n",
    "    def f(z):\n",
    "        return I[0]+I[1]*((1-ma.e**(-z/I[4]))/(z/I[4]))+I[2]*(((1-ma.e**(-z/I[4]))/(z/I[4]))-ma.e**(-z/I[4]))+I[3]*(((1-ma.e**(-z/I[5]))/(z/I[5]))-ma.e**(-z/I[5]))\n",
    "    s = f(z)\n",
    "    R.append(s)\n",
    "    count = count + 1\n",
    "plt.axis([0, 9, -.1, 2])    \n",
    "plt.plot(x,R)\n",
    "plt.show()\n",
    "C = map(op.sub, y, R)\n",
    "H = map(op.mul, C, C)\n",
    "print 'The sum of the residuals is:'\n",
    "print sum(H)\n",
    "print I"
   ]
  },
  {
   "cell_type": "code",
   "execution_count": 5,
   "metadata": {
    "collapsed": true
   },
   "outputs": [],
   "source": [
    "# Bootstraping Swedish government bonds\n",
    "from scipy.stats import *\n",
    "from numpy import *\n",
    "from matplotlib.pyplot import *\n",
    "from datetime import *"
   ]
  },
  {
   "cell_type": "code",
   "execution_count": 7,
   "metadata": {},
   "outputs": [
    {
     "ename": "NameError",
     "evalue": "name 'R25' is not defined",
     "output_type": "error",
     "traceback": [
      "\u001b[0;31m---------------------------------------------------------------------------\u001b[0m",
      "\u001b[0;31mNameError\u001b[0m                                 Traceback (most recent call last)",
      "\u001b[0;32m<ipython-input-7-6829678aef7f>\u001b[0m in \u001b[0;36m<module>\u001b[0;34m()\u001b[0m\n\u001b[1;32m     98\u001b[0m \u001b[0me\u001b[0m\u001b[0;34m=\u001b[0m\u001b[0;36m25.0\u001b[0m \u001b[0;31m# calculating spot rates for more 10 years\u001b[0m\u001b[0;34m\u001b[0m\u001b[0m\n\u001b[1;32m     99\u001b[0m \u001b[0mR10\u001b[0m\u001b[0;34m=\u001b[0m\u001b[0;34m(\u001b[0m\u001b[0;34m(\u001b[0m\u001b[0;36m1\u001b[0m\u001b[0;34m+\u001b[0m\u001b[0mYields\u001b[0m\u001b[0;34m[\u001b[0m\u001b[0mi\u001b[0m\u001b[0;34m]\u001b[0m\u001b[0;34m)\u001b[0m\u001b[0;34m**\u001b[0m\u001b[0;34m(\u001b[0m\u001b[0mDays\u001b[0m\u001b[0;34m[\u001b[0m\u001b[0mi\u001b[0m\u001b[0;34m]\u001b[0m\u001b[0;34m/\u001b[0m\u001b[0mN\u001b[0m\u001b[0;34m)\u001b[0m\u001b[0;34m*\u001b[0m\u001b[0;34m(\u001b[0m\u001b[0;36m1\u001b[0m\u001b[0;34m+\u001b[0m\u001b[0mF\u001b[0m\u001b[0;34m)\u001b[0m\u001b[0;34m**\u001b[0m\u001b[0;34m(\u001b[0m\u001b[0;34m(\u001b[0m\u001b[0me\u001b[0m\u001b[0;34m*\u001b[0m\u001b[0mN\u001b[0m\u001b[0;34m-\u001b[0m\u001b[0mDays\u001b[0m\u001b[0;34m[\u001b[0m\u001b[0mi\u001b[0m\u001b[0;34m]\u001b[0m\u001b[0;34m)\u001b[0m\u001b[0;34m/\u001b[0m\u001b[0mN\u001b[0m\u001b[0;34m)\u001b[0m\u001b[0;34m)\u001b[0m\u001b[0;34m**\u001b[0m\u001b[0;34m(\u001b[0m\u001b[0;36m1\u001b[0m\u001b[0;34m/\u001b[0m\u001b[0me\u001b[0m\u001b[0;34m)\u001b[0m\u001b[0;34m-\u001b[0m\u001b[0;36m1\u001b[0m\u001b[0;34m\u001b[0m\u001b[0m\n\u001b[0;32m--> 100\u001b[0;31m \u001b[0mYields\u001b[0m\u001b[0;34m.\u001b[0m\u001b[0mappend\u001b[0m\u001b[0;34m(\u001b[0m\u001b[0mR25\u001b[0m\u001b[0;34m)\u001b[0m\u001b[0;34m\u001b[0m\u001b[0m\n\u001b[0m\u001b[1;32m    101\u001b[0m \u001b[0mDays\u001b[0m\u001b[0;34m.\u001b[0m\u001b[0mappend\u001b[0m\u001b[0;34m(\u001b[0m\u001b[0me\u001b[0m\u001b[0;34m*\u001b[0m\u001b[0mN\u001b[0m\u001b[0;34m)\u001b[0m\u001b[0;34m\u001b[0m\u001b[0m\n\u001b[1;32m    102\u001b[0m \u001b[0mr\u001b[0m\u001b[0;34m=\u001b[0m\u001b[0mR25\u001b[0m\u001b[0;34m\u001b[0m\u001b[0m\n",
      "\u001b[0;31mNameError\u001b[0m: name 'R25' is not defined"
     ]
    }
   ],
   "source": [
    "# Parameter Values\n",
    "\n",
    "        #BONDS\n",
    "#Today\n",
    "StartD=date(2015,11,18)\n",
    "N=360.0\n",
    "Nominal=100.0\n",
    "\n",
    "#Coupon\n",
    "C=[3.0, 3.75, 4.25, 5.0, 3.5, 1.5, 2.5, 1.0, 2.25, 3.5 ]\n",
    "\n",
    "\n",
    "#Yield to maturity (%)\n",
    "YTM=[-0.0051, -0.0044, -0.0021, 0.0014, 0.0041, 0.0066, 0.0084, 0.0112, 0.0162, 0.0199]\n",
    "\n",
    "\n",
    "#Maturity date\n",
    "D1=date(2016,7,12)\n",
    "D2=date(2017,8,12)\n",
    "D3=date(2019,3,12)\n",
    "D4=date(2020,12,1)\n",
    "D5=date(2022,6,1)\n",
    "D6=date(2023,11,13)\n",
    "D7=date(2025,5,12)\n",
    "D8=date(2026,11,12)\n",
    "D9=date(2032,6,1)\n",
    "D10=date(2039,3,30)\n",
    "\n",
    "        #BILLS\n",
    "\n",
    "#Days\n",
    "Days=[30.0,60.0,90.0,120.0]\n",
    "\n",
    "#Yields\n",
    "Yields=[-0.0043, -0.0043, -0.0044, -0.0044]\n",
    "\n",
    "\n",
    "z=zip(Days,Yields)\n",
    "    \n",
    "\n",
    "def bond(Coupon, ytm, Date,z):\n",
    "    M=Date-StartD # Time to maturity\n",
    "    M=M.days\n",
    "    T=M\n",
    "    PVC=[]\n",
    "    while T>N: # while time to maturty is more than year \n",
    "        T=T-N #the time when coupon payment will be made\n",
    "        t=T // N #how many coupon payments have been made\n",
    "        tt=T%N #the time when the first coupon payment will be made\n",
    "        S1=min(Days, key=lambda x:abs(x-T)) #finding the nearest value\n",
    "        n=Days.index(S1) #the index in the list for the nearest value\n",
    "\n",
    "        #interpolation/extrapolation\n",
    "        if S1<T and S1==Days[-1]:\n",
    "            Y=z[n][1]+(z[n][1]-z[n-1][1])/(z[n][0]-z[n-1][0])*(T-z[n][0])\n",
    "        elif S1<T:\n",
    "            Y=z[n][1]+(z[n][1]-z[n+1][1])/(z[n][0]-z[n+1][0])*(T-z[n][0])\n",
    "        else:\n",
    "            Y=z[n][1]+(z[n][1]-z[n-1][1])/(z[n][0]-z[n-1][0])*(T-z[n][0])\n",
    "        PVC.append(Coupon/(1+Y)**(t+tt/N)) #present value for coupons\n",
    "    PVC=sum(PVC)\n",
    "    TT=M//N # how many coupon payments will be made\n",
    "    \n",
    "    Price=(1/(1+ytm)**(M/N))*(Nominal+Coupon*(((1+ytm)**(TT+1)-1)/ytm))#price of the bond\n",
    "    ZCB=Price-PVC # zero copoun bond\n",
    "    ZCR=((Nominal+Coupon)/ZCB)**(N/M)-1 #zero coupon rate\n",
    "    \n",
    "    # appending the calculated rate and days to the list\n",
    "    S2=min(Days, key=lambda x:abs(x-M)) \n",
    "    n2=Days.index(S2)\n",
    "    if M>S2:\n",
    "        z.insert(n2+1,(M,ZCR))\n",
    "        Days.insert(n2+1,M)\n",
    "        Yields.insert(n2+1, ZCR)\n",
    "    else:\n",
    "         z.insert(n2, (M,ZCR))\n",
    "         Days.insert(n2, M)\n",
    "         Yields.insert(n2,ZCR)\n",
    "    return z\n",
    "\n",
    "#calculating spot rate curve using government bonds\n",
    "a1=bond(C[0], YTM[0], D1,z)\n",
    "a2=bond(C[1],YTM[1], D2, a1)\n",
    "a3=bond(C[2], YTM[2], D3,a2)\n",
    "a4=bond(C[3], YTM[3], D4,a3)\n",
    "a5=bond(C[4], YTM[4], D5,a4)\n",
    "a6=bond(C[5], YTM[5], D6,a5)\n",
    "a7=bond(C[6], YTM[6], D7,a6)\n",
    "a8=bond(C[7], YTM[7], D8,a7)\n",
    "a9=bond(C[8], YTM[8], D9,a8)\n",
    "a10=bond(C[9], YTM[9], D10,a9)\n",
    "\n",
    "\n",
    "i=len(Yields)-1\n",
    "F=(((1+Yields[i])**(Days[i]/N))/((1+Yields[i-1])**(Days[i-1]/N)))**(N/float(Days[i]-Days[i-1]))-1 # forward rate for the last given date\n",
    "\n",
    "\n",
    "e=25.0 # calculating spot rates for more 10 years \n",
    "R10=((1+Yields[i])**(Days[i]/N)*(1+F)**((e*N-Days[i])/N))**(1/e)-1 \n",
    "Yields.append(R25)\n",
    "Days.append(e*N)\n",
    "r=R25\n",
    "for k in range(1,10):\n",
    "    e=e+1\n",
    "    R=(((1+r)**(e-1))*(1+F))**(1/e)-1 \n",
    "    Yields.append(R)\n",
    "    Days.append(e*N)\n",
    "    r=R\n",
    "\n",
    "\n",
    "\n",
    "s=len(Days)-1 \n",
    "D=[0]*(s+1)\n",
    "FR=[0]*s\n",
    "\n",
    "\n",
    "for q in range (0,s+1): # finding the discount function\n",
    "    D[q]=1/(1+Yields[q])**(Days[q]/N)\n",
    "    \n",
    "for q in range (0,s): # finding the forward rates\n",
    "    FR[q]=(((1+Yields[q+1])**(Days[q+1]/N))/((1+Yields[q])**(Days[q]/N)))**(1/((Days[q+1]/N-Days[q]/N)))-1\n",
    "\n",
    "#plotting\n",
    "figure(1)\n",
    "grid()\n",
    "plot(Days, Yields, 'g', label=\"Spot rate\")\n",
    "title('Spot and Forward curves')\n",
    "xlabel('Days')\n",
    "ylabel('Yield')\n",
    "\n",
    "figure(2)\n",
    "grid()\n",
    "plot(Days, D, 'm')\n",
    "title('Discount function')\n",
    "xlabel('Days')\n",
    "ylabel('Discount factor')\n",
    "\n",
    "figure(1)\n",
    "plot(Days[0:s], FR, 'r', label=\"Forward rate\")\n",
    "legend(bbox_to_anchor=(0.68, 0.17), loc=2, borderaxespad=0.)\n",
    "\n",
    "show()"
   ]
  },
  {
   "cell_type": "code",
   "execution_count": null,
   "metadata": {
    "collapsed": true
   },
   "outputs": [],
   "source": []
  }
 ],
 "metadata": {
  "kernelspec": {
   "display_name": "Python 2",
   "language": "python",
   "name": "python2"
  },
  "language_info": {
   "codemirror_mode": {
    "name": "ipython",
    "version": 2
   },
   "file_extension": ".py",
   "mimetype": "text/x-python",
   "name": "python",
   "nbconvert_exporter": "python",
   "pygments_lexer": "ipython2",
   "version": "2.7.10"
  }
 },
 "nbformat": 4,
 "nbformat_minor": 2
}
