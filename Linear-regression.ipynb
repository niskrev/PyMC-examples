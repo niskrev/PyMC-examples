{
 "cells": [
  {
   "cell_type": "code",
   "execution_count": 1,
   "metadata": {},
   "outputs": [
    {
     "name": "stderr",
     "output_type": "stream",
     "text": [
      "/Users/BadWizard/anaconda3/envs/theano/lib/python3.5/site-packages/matplotlib/style/core.py:197: UserWarning: In /Users/BadWizard/.matplotlib/stylelib/my_custom_style.mplstyle: axes.color_cycle is deprecated and replaced with axes.prop_cycle; please use the latter.\n",
      "  warnings.warn(message)\n"
     ]
    }
   ],
   "source": [
    "%matplotlib inline\n",
    "\n",
    "import pandas as pd\n",
    "import numpy as np\n",
    "import matplotlib.pyplot as plt"
   ]
  },
  {
   "cell_type": "code",
   "execution_count": 2,
   "metadata": {
    "collapsed": true
   },
   "outputs": [],
   "source": [
    "import pymc3 as pm3\n"
   ]
  },
  {
   "cell_type": "markdown",
   "metadata": {},
   "source": [
    "# Example 1. Simple Linear regression with one independent variabes"
   ]
  },
  {
   "cell_type": "code",
   "execution_count": 3,
   "metadata": {},
   "outputs": [
    {
     "data": {
      "text/html": [
       "<div>\n",
       "<style>\n",
       "    .dataframe thead tr:only-child th {\n",
       "        text-align: right;\n",
       "    }\n",
       "\n",
       "    .dataframe thead th {\n",
       "        text-align: left;\n",
       "    }\n",
       "\n",
       "    .dataframe tbody tr th {\n",
       "        vertical-align: top;\n",
       "    }\n",
       "</style>\n",
       "<table border=\"1\" class=\"dataframe\">\n",
       "  <thead>\n",
       "    <tr style=\"text-align: right;\">\n",
       "      <th></th>\n",
       "      <th>x</th>\n",
       "      <th>y</th>\n",
       "      <th>constant</th>\n",
       "    </tr>\n",
       "  </thead>\n",
       "  <tbody>\n",
       "    <tr>\n",
       "      <th>0</th>\n",
       "      <td>10.025222</td>\n",
       "      <td>15.173054</td>\n",
       "      <td>1</td>\n",
       "    </tr>\n",
       "    <tr>\n",
       "      <th>1</th>\n",
       "      <td>11.461675</td>\n",
       "      <td>15.495137</td>\n",
       "      <td>1</td>\n",
       "    </tr>\n",
       "    <tr>\n",
       "      <th>2</th>\n",
       "      <td>9.573432</td>\n",
       "      <td>14.204124</td>\n",
       "      <td>1</td>\n",
       "    </tr>\n",
       "    <tr>\n",
       "      <th>3</th>\n",
       "      <td>7.596998</td>\n",
       "      <td>13.117231</td>\n",
       "      <td>1</td>\n",
       "    </tr>\n",
       "    <tr>\n",
       "      <th>4</th>\n",
       "      <td>13.004164</td>\n",
       "      <td>17.961468</td>\n",
       "      <td>1</td>\n",
       "    </tr>\n",
       "  </tbody>\n",
       "</table>\n",
       "</div>"
      ],
      "text/plain": [
       "           x          y  constant\n",
       "0  10.025222  15.173054         1\n",
       "1  11.461675  15.495137         1\n",
       "2   9.573432  14.204124         1\n",
       "3   7.596998  13.117231         1\n",
       "4  13.004164  17.961468         1"
      ]
     },
     "execution_count": 3,
     "metadata": {},
     "output_type": "execute_result"
    }
   ],
   "source": [
    "N = 10000\n",
    "x = 10 + 2*np.random.randn(N)\n",
    "y = 5 + x + np.random.randn(N)\n",
    "df = pd.DataFrame({'y':y, 'x':x})\n",
    "df['constant'] = 1\n",
    "\n",
    "df.head()"
   ]
  },
  {
   "cell_type": "code",
   "execution_count": 4,
   "metadata": {
    "collapsed": true
   },
   "outputs": [],
   "source": [
    "with pm3.Model() as model:\n",
    "    b0 = pm3.Flat('constant',testval=5)\n",
    "    b1 = pm3.Flat('x',testval=1)\n",
    "    sigma = pm3.Flat('sigma',testval = 1)\n",
    "    mu = b0 + b1 * df.x\n",
    "    like = pm3.Normal('like',mu = mu, sd=sigma, observed=df.y)"
   ]
  },
  {
   "cell_type": "code",
   "execution_count": 5,
   "metadata": {},
   "outputs": [
    {
     "name": "stdout",
     "output_type": "stream",
     "text": [
      "Warning: Desired error not necessarily achieved due to precision loss.\n",
      "         Current function value: 14080.925167\n",
      "         Iterations: 7\n",
      "         Function evaluations: 124\n",
      "         Gradient evaluations: 111\n"
     ]
    }
   ],
   "source": [
    "with model:\n",
    "    # obtain MLE \n",
    "    beta_mle = pm3.find_MAP()\n",
    "    # obtain hessian at MAP\n",
    "    hessian = pm3.approx_hessian(beta_mle)"
   ]
  },
  {
   "cell_type": "code",
   "execution_count": 6,
   "metadata": {
    "collapsed": true
   },
   "outputs": [],
   "source": [
    "se_1 = np.sqrt(np.diag(np.linalg.inv(hessian)))    \n",
    "se = se_1[::-1]"
   ]
  },
  {
   "cell_type": "code",
   "execution_count": 7,
   "metadata": {},
   "outputs": [
    {
     "data": {
      "text/plain": [
       "array([ 0.04987087,  0.00491046,  0.00699479])"
      ]
     },
     "execution_count": 7,
     "metadata": {},
     "output_type": "execute_result"
    }
   ],
   "source": [
    "se"
   ]
  },
  {
   "cell_type": "code",
   "execution_count": 8,
   "metadata": {},
   "outputs": [
    {
     "data": {
      "text/plain": [
       "array(1.0036737555457917)"
      ]
     },
     "execution_count": 8,
     "metadata": {},
     "output_type": "execute_result"
    }
   ],
   "source": [
    "beta_mle['x']"
   ]
  },
  {
   "cell_type": "code",
   "execution_count": 9,
   "metadata": {
    "collapsed": true
   },
   "outputs": [],
   "source": [
    "b = np.array([beta_mle['constant'], beta_mle['x'], beta_mle['sigma']])"
   ]
  },
  {
   "cell_type": "code",
   "execution_count": 10,
   "metadata": {},
   "outputs": [
    {
     "data": {
      "text/html": [
       "<div>\n",
       "<style>\n",
       "    .dataframe thead tr:only-child th {\n",
       "        text-align: right;\n",
       "    }\n",
       "\n",
       "    .dataframe thead th {\n",
       "        text-align: left;\n",
       "    }\n",
       "\n",
       "    .dataframe tbody tr th {\n",
       "        vertical-align: top;\n",
       "    }\n",
       "</style>\n",
       "<table border=\"1\" class=\"dataframe\">\n",
       "  <thead>\n",
       "    <tr style=\"text-align: right;\">\n",
       "      <th></th>\n",
       "      <th>parameters</th>\n",
       "      <th>std err</th>\n",
       "    </tr>\n",
       "  </thead>\n",
       "  <tbody>\n",
       "    <tr>\n",
       "      <th>Intercept</th>\n",
       "      <td>4.947270</td>\n",
       "      <td>0.049871</td>\n",
       "    </tr>\n",
       "    <tr>\n",
       "      <th>Slope</th>\n",
       "      <td>1.003674</td>\n",
       "      <td>0.004910</td>\n",
       "    </tr>\n",
       "    <tr>\n",
       "      <th>Sigma</th>\n",
       "      <td>0.989213</td>\n",
       "      <td>0.006995</td>\n",
       "    </tr>\n",
       "  </tbody>\n",
       "</table>\n",
       "</div>"
      ],
      "text/plain": [
       "           parameters   std err\n",
       "Intercept    4.947270  0.049871\n",
       "Slope        1.003674  0.004910\n",
       "Sigma        0.989213  0.006995"
      ]
     },
     "execution_count": 10,
     "metadata": {},
     "output_type": "execute_result"
    }
   ],
   "source": [
    "results_pymc = pd.DataFrame({'parameters':b,'std err':se})\n",
    "results_pymc.index=['Intercept','Slope','Sigma']   \n",
    "results_pymc.head()"
   ]
  },
  {
   "cell_type": "markdown",
   "metadata": {},
   "source": [
    "# Example 2. Multiple linear regression"
   ]
  },
  {
   "cell_type": "code",
   "execution_count": 11,
   "metadata": {
    "collapsed": true
   },
   "outputs": [],
   "source": [
    "np.random.seed(314)\n",
    "N = 100\n",
    "alpha_real = 2.5\n",
    "beta_real = [0.9, 1.5]\n",
    "eps_real = np.random.normal(0, 0.5, size = N)"
   ]
  },
  {
   "cell_type": "code",
   "execution_count": 12,
   "metadata": {
    "collapsed": true
   },
   "outputs": [],
   "source": [
    "X = np.array([np.random.normal(i, j, N) for i,j in zip([10, 2], [1, 1.5])])"
   ]
  },
  {
   "cell_type": "code",
   "execution_count": 13,
   "metadata": {},
   "outputs": [
    {
     "name": "stdout",
     "output_type": "stream",
     "text": [
      "The mean of X is [ 10.1291923    1.99519902]\n",
      "The std. of X is [ 1.08956178  1.4769449 ]\n"
     ]
    }
   ],
   "source": [
    "print('The mean of X is {}'.format(np.mean(X,axis=1)))\n",
    "print('The std. of X is {}'.format(np.std(X,axis=1)))"
   ]
  },
  {
   "cell_type": "code",
   "execution_count": 14,
   "metadata": {},
   "outputs": [
    {
     "data": {
      "text/plain": [
       "array([[ 10.1291923 ],\n",
       "       [  1.99519902]])"
      ]
     },
     "execution_count": 14,
     "metadata": {},
     "output_type": "execute_result"
    }
   ],
   "source": [
    "X_mean = X.mean(axis=1, keepdims=True)\n",
    "X_mean"
   ]
  },
  {
   "cell_type": "code",
   "execution_count": 15,
   "metadata": {
    "collapsed": true
   },
   "outputs": [],
   "source": [
    "X_centered = X - X_mean"
   ]
  },
  {
   "cell_type": "code",
   "execution_count": 16,
   "metadata": {},
   "outputs": [
    {
     "data": {
      "text/plain": [
       "array([  2.75335310e-16,   2.04281037e-16])"
      ]
     },
     "execution_count": 16,
     "metadata": {},
     "output_type": "execute_result"
    }
   ],
   "source": [
    "X_centered.mean(axis=1)"
   ]
  },
  {
   "cell_type": "code",
   "execution_count": 17,
   "metadata": {},
   "outputs": [
    {
     "data": {
      "text/plain": [
       "array([ 14.22551158,  11.88323137,   9.68809989,  12.30786374,\n",
       "        12.01203882,   8.95038951,  12.96247074,  12.38112058,\n",
       "        13.79220983,  12.67587645,  12.2940463 ,   9.42982196,\n",
       "        11.04063803,  13.38665841,  10.92188687,  16.37840986,\n",
       "        14.71559503,  13.71455417,  12.16694005,  13.7560264 ,\n",
       "         9.9851754 ,   9.77787031,  12.43127264,  12.12351027,\n",
       "        13.34543507,  14.9101143 ,  10.55871973,   7.85681305,\n",
       "        15.24495866,  13.86486877,  12.68487399,  12.37965363,\n",
       "        10.14423681,  12.27428314,  13.0939399 ,  12.62083306,\n",
       "        12.4741106 ,   9.79035281,  10.55420149,  14.11057435,\n",
       "        14.55706127,  11.5365302 ,  11.46349024,   4.8633872 ,\n",
       "         8.9375993 ,   8.5586211 ,   9.16609986,  18.32771603,\n",
       "        11.19781097,  12.26043546,  12.654817  ,   9.27079582,\n",
       "        16.44721035,  10.72871152,  12.04813346,   9.42967892,\n",
       "        13.35721015,  14.47114645,   9.64606016,  11.75414549,\n",
       "        13.6890802 ,  10.73638525,   9.86763997,  15.55516469,\n",
       "        13.74068786,  13.73043217,  10.24792863,  11.55435638,\n",
       "         9.865338  ,  13.21022418,  17.11080603,  14.8723095 ,\n",
       "        12.59704802,  10.55116885,  16.14850372,  14.01503416,\n",
       "        11.36030954,  15.84517649,   9.71529967,  10.39077291,\n",
       "        12.226384  ,  11.91167346,  10.94526174,   9.17091609,\n",
       "         9.40674175,  17.11247125,  14.83322914,  14.60207761,\n",
       "        15.40347512,  14.06646083,  12.82148637,   7.44310506,\n",
       "         9.98180901,  12.39908942,  12.43712311,  12.80292215,\n",
       "         9.31009103,   9.83401554,  11.12647329,   8.68283961])"
      ]
     },
     "execution_count": 17,
     "metadata": {},
     "output_type": "execute_result"
    }
   ],
   "source": [
    "X.T.dot(beta_real)"
   ]
  },
  {
   "cell_type": "code",
   "execution_count": 18,
   "metadata": {},
   "outputs": [
    {
     "data": {
      "text/plain": [
       "array([ 14.22551158,  11.88323137,   9.68809989,  12.30786374,\n",
       "        12.01203882,   8.95038951,  12.96247074,  12.38112058,\n",
       "        13.79220983,  12.67587645,  12.2940463 ,   9.42982196,\n",
       "        11.04063803,  13.38665841,  10.92188687,  16.37840986,\n",
       "        14.71559503,  13.71455417,  12.16694005,  13.7560264 ,\n",
       "         9.9851754 ,   9.77787031,  12.43127264,  12.12351027,\n",
       "        13.34543507,  14.9101143 ,  10.55871973,   7.85681305,\n",
       "        15.24495866,  13.86486877,  12.68487399,  12.37965363,\n",
       "        10.14423681,  12.27428314,  13.0939399 ,  12.62083306,\n",
       "        12.4741106 ,   9.79035281,  10.55420149,  14.11057435,\n",
       "        14.55706127,  11.5365302 ,  11.46349024,   4.8633872 ,\n",
       "         8.9375993 ,   8.5586211 ,   9.16609986,  18.32771603,\n",
       "        11.19781097,  12.26043546,  12.654817  ,   9.27079582,\n",
       "        16.44721035,  10.72871152,  12.04813346,   9.42967892,\n",
       "        13.35721015,  14.47114645,   9.64606016,  11.75414549,\n",
       "        13.6890802 ,  10.73638525,   9.86763997,  15.55516469,\n",
       "        13.74068786,  13.73043217,  10.24792863,  11.55435638,\n",
       "         9.865338  ,  13.21022418,  17.11080603,  14.8723095 ,\n",
       "        12.59704802,  10.55116885,  16.14850372,  14.01503416,\n",
       "        11.36030954,  15.84517649,   9.71529967,  10.39077291,\n",
       "        12.226384  ,  11.91167346,  10.94526174,   9.17091609,\n",
       "         9.40674175,  17.11247125,  14.83322914,  14.60207761,\n",
       "        15.40347512,  14.06646083,  12.82148637,   7.44310506,\n",
       "         9.98180901,  12.39908942,  12.43712311,  12.80292215,\n",
       "         9.31009103,   9.83401554,  11.12647329,   8.68283961])"
      ]
     },
     "execution_count": 18,
     "metadata": {},
     "output_type": "execute_result"
    }
   ],
   "source": [
    "np.dot(beta_real, X)"
   ]
  },
  {
   "cell_type": "code",
   "execution_count": 19,
   "metadata": {},
   "outputs": [
    {
     "data": {
      "text/plain": [
       "12.182493960703473"
      ]
     },
     "execution_count": 19,
     "metadata": {},
     "output_type": "execute_result"
    }
   ],
   "source": [
    "np.exp(alpha_real)"
   ]
  },
  {
   "cell_type": "code",
   "execution_count": 20,
   "metadata": {},
   "outputs": [
    {
     "data": {
      "text/plain": [
       "2.5"
      ]
     },
     "execution_count": 20,
     "metadata": {},
     "output_type": "execute_result"
    }
   ],
   "source": [
    "alpha_real"
   ]
  },
  {
   "cell_type": "code",
   "execution_count": 21,
   "metadata": {
    "collapsed": true
   },
   "outputs": [],
   "source": [
    "y = alpha_real + np.dot(beta_real, X) + eps_real"
   ]
  },
  {
   "cell_type": "code",
   "execution_count": 22,
   "metadata": {
    "collapsed": true
   },
   "outputs": [],
   "source": [
    "def scatter_plot(x, y):\n",
    "    plt.figure(figsize=(10, 10))\n",
    "    for idx, x_i in enumerate(x):\n",
    "        plt.subplot(2,2,idx+1)\n",
    "        plt.scatter(x_i, y)\n",
    "        plt.xlabel(\"$x_{}$\".format(idx), fontsize = 16)\n",
    "        plt.ylabel(\"$y$\", rotation=0, fontsize = 16)\n",
    "        \n",
    "    plt.subplot(2,2,idx+2)\n",
    "    plt.scatter(x[0], x[1])\n",
    "    plt.xlabel(\"$x_{}$\".format(idx-1), fontsize = 16)\n",
    "    plt.ylabel(\"$x_{}$\".format(idx), rotation=0, fontsize = 16)\n",
    "    \n",
    "        \n",
    "            "
   ]
  },
  {
   "cell_type": "code",
   "execution_count": 23,
   "metadata": {},
   "outputs": [
    {
     "data": {
      "image/png": "[encoded data removed]",
      "text/plain": [
       "<matplotlib.figure.Figure at 0x11732fa20>"
      ]
     },
     "metadata": {},
     "output_type": "display_data"
    }
   ],
   "source": [
    "scatter_plot(X, y)"
   ]
  },
  {
   "cell_type": "code",
   "execution_count": 24,
   "metadata": {},
   "outputs": [
    {
     "name": "stdout",
     "output_type": "stream",
     "text": [
      "Optimization terminated successfully.\n",
      "         Current function value: 74.986175\n",
      "         Iterations: 23\n",
      "         Function evaluations: 31\n",
      "         Gradient evaluations: 31\n"
     ]
    },
    {
     "name": "stderr",
     "output_type": "stream",
     "text": [
      "100%|██████████| 5500/5500 [00:05<00:00, 1045.29it/s]\n"
     ]
    }
   ],
   "source": [
    "with pm3.Model() as model_mlr:\n",
    "    alpha_tmp = pm3.Normal('alpha_tmp', mu=0, sd = 10)\n",
    "    beta = pm3.Normal('$beta$', mu=0, sd = 1, shape = 2)\n",
    "    epsilon = pm3.HalfCauchy('$epsilon$', 5)\n",
    "    \n",
    "    mu = alpha_tmp + pm3.math.dot(beta, X_centered)\n",
    "    alpha = pm3.Deterministic('$alpha$', alpha_tmp - pm3.math.dot(beta, X_mean))\n",
    "    y_pred = pm3.Normal('y_pred', mu=mu, sd=epsilon, observed = y)\n",
    "    \n",
    "    start = pm3.find_MAP()\n",
    "    step = pm3.NUTS(scaling=start)\n",
    "    trace_mlr = pm3.sample(5000, step=step, start=start )"
   ]
  },
  {
   "cell_type": "code",
   "execution_count": 25,
   "metadata": {},
   "outputs": [
    {
     "data": {
      "text/plain": [
       "['alpha_tmp', '$beta$', '$epsilon$_log__', '$epsilon$', '$alpha$']"
      ]
     },
     "execution_count": 25,
     "metadata": {},
     "output_type": "execute_result"
    }
   ],
   "source": [
    "trace_mlr.varnames"
   ]
  },
  {
   "cell_type": "code",
   "execution_count": 26,
   "metadata": {},
   "outputs": [
    {
     "data": {
      "text/plain": [
       "''"
      ]
     },
     "execution_count": 26,
     "metadata": {},
     "output_type": "execute_result"
    },
    {
     "data": {
      "image/png": "[encoded data removed]",
      "text/plain": [
       "<matplotlib.figure.Figure at 0x1193ee908>"
      ]
     },
     "metadata": {},
     "output_type": "display_data"
    }
   ],
   "source": [
    "varnames = ['$alpha$','$beta$', '$epsilon$']\n",
    "pm3.traceplot(trace_mlr, varnames)\n",
    ";"
   ]
  },
  {
   "cell_type": "code",
   "execution_count": 27,
   "metadata": {},
   "outputs": [
    {
     "data": {
      "text/plain": [
       "array([ 0.96887982,  1.47000984])"
      ]
     },
     "execution_count": 27,
     "metadata": {},
     "output_type": "execute_result"
    }
   ],
   "source": [
    "start['$beta$']"
   ]
  },
  {
   "cell_type": "code",
   "execution_count": 28,
   "metadata": {},
   "outputs": [
    {
     "data": {
      "text/plain": [
       "array([ 0.96887982,  1.47000984])"
      ]
     },
     "execution_count": 28,
     "metadata": {},
     "output_type": "execute_result"
    }
   ],
   "source": [
    "start['$beta$']"
   ]
  },
  {
   "cell_type": "code",
   "execution_count": null,
   "metadata": {
    "collapsed": true
   },
   "outputs": [],
   "source": []
  }
 ],
 "metadata": {
  "kernelspec": {
   "display_name": "Python [conda env:theano]",
   "language": "python",
   "name": "conda-env-theano-py"
  },
  "language_info": {
   "codemirror_mode": {
    "name": "ipython",
    "version": 3
   },
   "file_extension": ".py",
   "mimetype": "text/x-python",
   "name": "python",
   "nbconvert_exporter": "python",
   "pygments_lexer": "ipython3",
   "version": "3.5.4"
  },
  "widgets": {
   "state": {},
   "version": "1.1.2"
  }
 },
 "nbformat": 4,
 "nbformat_minor": 2
}
