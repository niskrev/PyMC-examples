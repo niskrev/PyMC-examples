{
 "cells": [
  {
   "cell_type": "code",
   "execution_count": 1,
   "metadata": {},
   "outputs": [
    {
     "name": "stderr",
     "output_type": "stream",
     "text": [
      "/Users/BadWizard/anaconda3/envs/theano/lib/python3.5/site-packages/matplotlib/style/core.py:197: UserWarning: In /Users/BadWizard/.matplotlib/stylelib/my_custom_style.mplstyle: axes.color_cycle is deprecated and replaced with axes.prop_cycle; please use the latter.\n",
      "  warnings.warn(message)\n"
     ]
    }
   ],
   "source": [
    "%matplotlib inline\n",
    "\n",
    "import pandas as pd\n",
    "import numpy as np\n",
    "import matplotlib.pyplot as plt"
   ]
  },
  {
   "cell_type": "code",
   "execution_count": 2,
   "metadata": {},
   "outputs": [],
   "source": [
    "import pymc3 as pm3\n"
   ]
  },
  {
   "cell_type": "markdown",
   "metadata": {},
   "source": [
    "# Example 1. Simple Linear regression with one independent variabes"
   ]
  },
  {
   "cell_type": "code",
   "execution_count": 3,
   "metadata": {},
   "outputs": [
    {
     "data": {
      "text/html": [
       "<div>\n",
       "<style>\n",
       "    .dataframe thead tr:only-child th {\n",
       "        text-align: right;\n",
       "    }\n",
       "\n",
       "    .dataframe thead th {\n",
       "        text-align: left;\n",
       "    }\n",
       "\n",
       "    .dataframe tbody tr th {\n",
       "        vertical-align: top;\n",
       "    }\n",
       "</style>\n",
       "<table border=\"1\" class=\"dataframe\">\n",
       "  <thead>\n",
       "    <tr style=\"text-align: right;\">\n",
       "      <th></th>\n",
       "      <th>x</th>\n",
       "      <th>y</th>\n",
       "      <th>constant</th>\n",
       "    </tr>\n",
       "  </thead>\n",
       "  <tbody>\n",
       "    <tr>\n",
       "      <th>0</th>\n",
       "      <td>9.823447</td>\n",
       "      <td>13.437519</td>\n",
       "      <td>1</td>\n",
       "    </tr>\n",
       "    <tr>\n",
       "      <th>1</th>\n",
       "      <td>9.582009</td>\n",
       "      <td>15.131352</td>\n",
       "      <td>1</td>\n",
       "    </tr>\n",
       "    <tr>\n",
       "      <th>2</th>\n",
       "      <td>8.576958</td>\n",
       "      <td>14.864126</td>\n",
       "      <td>1</td>\n",
       "    </tr>\n",
       "    <tr>\n",
       "      <th>3</th>\n",
       "      <td>14.088832</td>\n",
       "      <td>18.801374</td>\n",
       "      <td>1</td>\n",
       "    </tr>\n",
       "    <tr>\n",
       "      <th>4</th>\n",
       "      <td>9.607870</td>\n",
       "      <td>14.195478</td>\n",
       "      <td>1</td>\n",
       "    </tr>\n",
       "  </tbody>\n",
       "</table>\n",
       "</div>"
      ],
      "text/plain": [
       "           x          y  constant\n",
       "0   9.823447  13.437519         1\n",
       "1   9.582009  15.131352         1\n",
       "2   8.576958  14.864126         1\n",
       "3  14.088832  18.801374         1\n",
       "4   9.607870  14.195478         1"
      ]
     },
     "execution_count": 3,
     "metadata": {},
     "output_type": "execute_result"
    }
   ],
   "source": [
    "N = 10000\n",
    "x = 10 + 2*np.random.randn(N)\n",
    "y = 5 + x + np.random.randn(N)\n",
    "df = pd.DataFrame({'y':y, 'x':x})\n",
    "df['constant'] = 1\n",
    "\n",
    "df.head()"
   ]
  },
  {
   "cell_type": "code",
   "execution_count": 4,
   "metadata": {
    "collapsed": true
   },
   "outputs": [],
   "source": [
    "with pm3.Model() as model:\n",
    "    b0 = pm3.Flat('constant',testval=5)\n",
    "    b1 = pm3.Flat('x',testval=1)\n",
    "    sigma = pm3.Flat('sigma',testval = 1)\n",
    "    mu = b0 + b1 * df.x\n",
    "    like = pm3.Normal('like',mu = mu, sd=sigma, observed=df.y)"
   ]
  },
  {
   "cell_type": "code",
   "execution_count": 5,
   "metadata": {},
   "outputs": [
    {
     "name": "stdout",
     "output_type": "stream",
     "text": [
      "Optimization terminated successfully.\n",
      "         Current function value: 14157.159103\n",
      "         Iterations: 6\n",
      "         Function evaluations: 8\n",
      "         Gradient evaluations: 8\n"
     ]
    }
   ],
   "source": [
    "with model:\n",
    "    # obtain MLE \n",
    "    beta_mle = pm3.find_MAP()\n",
    "    # obtain hessian at MAP\n",
    "    hessian = pm3.approx_hessian(beta_mle)"
   ]
  },
  {
   "cell_type": "code",
   "execution_count": 6,
   "metadata": {
    "collapsed": true
   },
   "outputs": [],
   "source": [
    "se_1 = np.sqrt(np.diag(np.linalg.inv(hessian)))    \n",
    "se = se_1[::-1]"
   ]
  },
  {
   "cell_type": "code",
   "execution_count": 7,
   "metadata": {},
   "outputs": [
    {
     "ename": "NameError",
     "evalue": "name 'se1' is not defined",
     "output_type": "error",
     "traceback": [
      "\u001b[0;31m---------------------------------------------------------------------------\u001b[0m",
      "\u001b[0;31mNameError\u001b[0m                                 Traceback (most recent call last)",
      "\u001b[0;32m<ipython-input-7-186d5bd82f9e>\u001b[0m in \u001b[0;36m<module>\u001b[0;34m()\u001b[0m\n\u001b[0;32m----> 1\u001b[0;31m \u001b[0mse1\u001b[0m\u001b[0;34m\u001b[0m\u001b[0m\n\u001b[0m",
      "\u001b[0;31mNameError\u001b[0m: name 'se1' is not defined"
     ]
    }
   ],
   "source": [
    "se1"
   ]
  },
  {
   "cell_type": "code",
   "execution_count": null,
   "metadata": {},
   "outputs": [],
   "source": [
    "se"
   ]
  },
  {
   "cell_type": "code",
   "execution_count": null,
   "metadata": {},
   "outputs": [],
   "source": [
    "beta_mle['x']"
   ]
  },
  {
   "cell_type": "code",
   "execution_count": null,
   "metadata": {
    "collapsed": true
   },
   "outputs": [],
   "source": [
    "b = np.array([beta_mle['constant'], beta_mle['x'], beta_mle['sigma']])"
   ]
  },
  {
   "cell_type": "code",
   "execution_count": null,
   "metadata": {},
   "outputs": [],
   "source": [
    "results_pymc = pd.DataFrame({'parameters':b,'std err':se})\n",
    "results_pymc.index=['Intercept','Slope','Sigma']   \n",
    "results_pymc.head()"
   ]
  },
  {
   "cell_type": "markdown",
   "metadata": {},
   "source": [
    "# Example 2. Multiple linear regression"
   ]
  },
  {
   "cell_type": "code",
   "execution_count": null,
   "metadata": {
    "collapsed": true
   },
   "outputs": [],
   "source": [
    "np.random.seed(314)\n",
    "N = 100\n",
    "alpha_real = 2.5\n",
    "beta_real = [0.9, 1.5]\n",
    "eps_real = np.random.normal(0, 0.5, size = N)"
   ]
  },
  {
   "cell_type": "code",
   "execution_count": null,
   "metadata": {
    "collapsed": true
   },
   "outputs": [],
   "source": [
    "X = np.array([np.random.normal(i, j, N) for i,j in zip([10, 2], [1, 1.5])])"
   ]
  },
  {
   "cell_type": "code",
   "execution_count": null,
   "metadata": {},
   "outputs": [],
   "source": [
    "print('The mean of X is {}'.format(np.mean(X,axis=1)))\n",
    "print('The std. of X is {}'.format(np.std(X,axis=1)))"
   ]
  },
  {
   "cell_type": "code",
   "execution_count": null,
   "metadata": {},
   "outputs": [],
   "source": [
    "X_mean = X.mean(axis=1, keepdims=True)\n",
    "X_mean"
   ]
  },
  {
   "cell_type": "code",
   "execution_count": null,
   "metadata": {
    "collapsed": true
   },
   "outputs": [],
   "source": [
    "X_centered = X - X_mean"
   ]
  },
  {
   "cell_type": "code",
   "execution_count": null,
   "metadata": {},
   "outputs": [],
   "source": [
    "X_centered.mean(axis=1)"
   ]
  },
  {
   "cell_type": "code",
   "execution_count": null,
   "metadata": {},
   "outputs": [],
   "source": [
    "X.T.dot(beta_real)"
   ]
  },
  {
   "cell_type": "code",
   "execution_count": null,
   "metadata": {},
   "outputs": [],
   "source": [
    "np.dot(beta_real, X)"
   ]
  },
  {
   "cell_type": "code",
   "execution_count": null,
   "metadata": {
    "collapsed": true
   },
   "outputs": [],
   "source": [
    "y = alpha_real + np.dot(beta_real, X) + eps_real"
   ]
  },
  {
   "cell_type": "code",
   "execution_count": null,
   "metadata": {
    "collapsed": true
   },
   "outputs": [],
   "source": [
    "def scatter_plot(x, y):\n",
    "    plt.figure(figsize=(10, 10))\n",
    "    for idx, x_i in enumerate(x):\n",
    "        plt.subplot(2,2,idx+1)\n",
    "        plt.scatter(x_i, y)\n",
    "        plt.xlabel(\"$x_{}$\".format(idx), fontsize = 16)\n",
    "        plt.ylabel(\"$y$\", rotation=0, fontsize = 16)\n",
    "        \n",
    "    plt.subplot(2,2,idx+2)\n",
    "    plt.scatter(x[0], x[1])\n",
    "    plt.xlabel(\"$x_{}$\".format(idx-1), fontsize = 16)\n",
    "    plt.ylabel(\"$x_{}$\".format(idx), rotation=0, fontsize = 16)\n",
    "    \n",
    "        \n",
    "            "
   ]
  },
  {
   "cell_type": "code",
   "execution_count": null,
   "metadata": {},
   "outputs": [],
   "source": [
    "scatter_plot(X, y)"
   ]
  },
  {
   "cell_type": "code",
   "execution_count": null,
   "metadata": {},
   "outputs": [],
   "source": [
    "with pm3.Model() as model_mlr:\n",
    "    alpha_tmp = pm3.Normal('alpha_tmp', mu=0, sd = 10)\n",
    "    beta = pm3.Normal('$beta$', mu=0, sd = 1, shape = 2)\n",
    "    epsilon = pm3.HalfCauchy('$epsilon$', 5)\n",
    "    \n",
    "    mu = alpha_tmp + pm3.math.dot(beta, X_centered)\n",
    "    alpha = pm3.Deterministic('$alpha$', alpha_tmp - pm3.math.dot(beta, X_mean))\n",
    "    y_pred = pm3.Normal('y_pred', mu=mu, sd=epsilon, observed = y)\n",
    "    \n",
    "    start = pm3.find_MAP()\n",
    "    step = pm3.NUTS(scaling=start)\n",
    "    trace_mlr = pm3.sample(5000, step=step, start=start )"
   ]
  },
  {
   "cell_type": "code",
   "execution_count": null,
   "metadata": {},
   "outputs": [],
   "source": [
    "trace_mlr.varnames"
   ]
  },
  {
   "cell_type": "code",
   "execution_count": null,
   "metadata": {},
   "outputs": [],
   "source": [
    "varnames = ['$alpha$','$beta$', '$epsilon$']\n",
    "pm3.traceplot(trace_mlr, varnames)\n",
    ";"
   ]
  },
  {
   "cell_type": "code",
   "execution_count": null,
   "metadata": {},
   "outputs": [],
   "source": [
    "start['beta']"
   ]
  },
  {
   "cell_type": "code",
   "execution_count": null,
   "metadata": {
    "collapsed": true
   },
   "outputs": [],
   "source": []
  }
 ],
 "metadata": {
  "kernelspec": {
   "display_name": "Python [conda env:theano]",
   "language": "python",
   "name": "conda-env-theano-py"
  },
  "language_info": {
   "codemirror_mode": {
    "name": "ipython",
    "version": 3
   },
   "file_extension": ".py",
   "mimetype": "text/x-python",
   "name": "python",
   "nbconvert_exporter": "python",
   "pygments_lexer": "ipython3",
   "version": "3.5.4"
  }
 },
 "nbformat": 4,
 "nbformat_minor": 2
}
